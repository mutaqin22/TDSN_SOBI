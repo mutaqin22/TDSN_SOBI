{
 "cells": [
  {
   "cell_type": "code",
   "execution_count": 14,
   "id": "4f0e2745-8d7d-4ab2-8f89-04ab2fc820fb",
   "metadata": {},
   "outputs": [],
   "source": [
    "import pandas as pd\n",
    "import glob as gb\n",
    "import numpy as np\n",
    "import matplotlib.pyplot as plt\n",
    "import seaborn as sns"
   ]
  },
  {
   "cell_type": "markdown",
   "id": "ee12fbda-ad7a-488c-bef2-5c34cac8e0f2",
   "metadata": {},
   "source": [
    "## File periodik"
   ]
  },
  {
   "cell_type": "code",
   "execution_count": 20,
   "id": "f953d15c-8192-45d6-ac6d-ee95116a9525",
   "metadata": {},
   "outputs": [],
   "source": [
    "# regex semua file .csv wisatwan mancanegara\n",
    "loc_1 = 'C:/Users/Choir/Documents/GitHub/TDSN_SOBI/Datasource/Public Service/DKI Jakarta/Pariwisata/\\\n",
    "data-jumlah-kunjungan-wisatawan-mancanegara*.csv'\n",
    "filenames_1 = gb.glob(loc_1)\n",
    "\n",
    "# regex semua file .csv wisatawan nusantara\n",
    "loc_2 = 'C:/Users/Choir/Documents/GitHub/TDSN_SOBI/Datasource/Public Service/DKI Jakarta/Pariwisata/\\\n",
    "data-jumlah-kunjungan-wisatawan-nusantara*.csv'\n",
    "filenames_2 = gb.glob(loc_2)\n",
    "\n",
    "# regex semua file .csv statistik wisata per tahun\n",
    "loc_3 = 'C:/Users/Choir/Documents/GitHub/TDSN_SOBI/Datasource/Public Service/DKI Jakarta/Pariwisata/\\\n",
    "data-jumlah-statistik-wisata*.csv'\n",
    "filenames_3 = gb.glob(loc_3)\n",
    "\n",
    "# regex semua file .csv kategori event\n",
    "loc_4 = 'C:/Users/Choir/Documents/GitHub/TDSN_SOBI/Datasource/Public Service/DKI Jakarta/Pariwisata/\\\n",
    "data-kategori-event*.csv'\n",
    "filenames_4 = gb.glob(loc_4)\n",
    "\n",
    "# rata-rata lama menginap\n",
    "loc_5 = 'C:/Users/Choir/Documents/GitHub/TDSN_SOBI/Datasource/Public Service/DKI Jakarta/Pariwisata/\\\n",
    "data-rata-rata-*.csv'\n",
    "filenames_5 = gb.glob(loc_5)"
   ]
  },
  {
   "cell_type": "code",
   "execution_count": 22,
   "id": "b683d179-5c82-4c68-9d62-12809adc0308",
   "metadata": {},
   "outputs": [],
   "source": [
    "# Pemanggilan file-file csv menggunakan list\n",
    "#\n",
    "# Wisatawan mancanegara\n",
    "list_1 = []\n",
    "for file_1 in filenames_1:\n",
    "    df_1 = pd.read_csv(file_1)\n",
    "    list_1.append(df_1)\n",
    "wisatawan_mancanegara = pd.concat(list_1)\n",
    "\n",
    "# Wisatawan nusantara\n",
    "list_2 = []\n",
    "for file_2 in filenames_2:\n",
    "    df_2 = pd.read_csv(file_2)\n",
    "    list_2.append(df_2)\n",
    "wisatawan_nusantara = pd.concat(list_2)\n",
    "\n",
    "# Statistik wisata\n",
    "list_3 = []\n",
    "for file_3 in filenames_3:\n",
    "    df_3 = pd.read_csv(file_3)\n",
    "    list_3.append(df_3)\n",
    "statistik_wisata = pd.concat(list_3)\n",
    "\n",
    "# Kategori event\n",
    "list_4 = []\n",
    "for file_4 in filenames_4:\n",
    "    df_4 = pd.read_csv(file_4)\n",
    "    list_4.append(df_4)\n",
    "event_dki = pd.concat(list_4)\n",
    "\n",
    "# Lama menginap\n",
    "list_5 = []\n",
    "for file_5 in filenames_5:\n",
    "    df_5 = pd.read_csv(file_5)\n",
    "    list_5.append(df_5)\n",
    "lama_menginap = pd.concat(list_5)"
   ]
  },
  {
   "cell_type": "code",
   "execution_count": 23,
   "id": "f18b31d1-7011-41b9-9754-78aed8ba5171",
   "metadata": {},
   "outputs": [
    {
     "name": "stdout",
     "output_type": "stream",
     "text": [
      "[ 8  4 12  2  1  7  6  3  5 11 10  9]\n",
      "[ 8  4 12  2  1  6  3  5 11 10  9  7]\n",
      "[2017 2018 2019]\n",
      "[2016 2017 2018 2019]\n",
      "[2016 2017 2018]\n",
      "[ 1  2  3  4  5  6  7  8  9 10 11 12]\n"
     ]
    }
   ],
   "source": [
    "# cek unique row\n",
    "print(wisatawan_mancanegara['bulan'].unique())\n",
    "print(wisatawan_nusantara['bulan'].unique())\n",
    "print(statistik_wisata['tahun'].unique())\n",
    "print(event_dki['tahun'].unique())\n",
    "print(lama_menginap['tahun'].unique())\n",
    "print(lama_menginap['bulan'].unique())"
   ]
  },
  {
   "cell_type": "markdown",
   "id": "9773299a-8f97-41e6-b3dd-ec7572d88aa3",
   "metadata": {},
   "source": [
    "## File non-periodik"
   ]
  },
  {
   "cell_type": "code",
   "execution_count": 27,
   "id": "a17d4c23-fa3f-4d7e-a7da-02747ef0b05d",
   "metadata": {},
   "outputs": [],
   "source": [
    "# jumlah hotel \n",
    "loc_6 = 'C:/Users/Choir/Documents/GitHub/TDSN_SOBI/Datasource/Public Service/DKI Jakarta/Pariwisata/\\\n",
    "data-jumlah-hotel-berbintang-dan-non-bintang-jakarta-tahun-2020.csv'\n",
    "jumlah_hotel = pd.read_csv(loc_6)\n",
    "\n",
    "# jumlah peserta pelatihan profesi kepariwisataan\n",
    "loc_7 = 'C:/Users/Choir/Documents/GitHub/TDSN_SOBI/Datasource/Public Service/DKI Jakarta/Pariwisata/\\\n",
    "data-jumlah-peserta-pelatihan-profesi-kepariwisataan-di-provinsi-dki-jakarta-tahun-2019.csv'\n",
    "jumlah_peserta_pelatihan = pd.read_csv(loc_7)\n",
    "\n",
    "# jumlah usaha jasa pariwisata 2018\n",
    "loc_7 = 'C:/Users/Choir/Documents/GitHub/TDSN_SOBI/Datasource/Public Service/DKI Jakarta/Pariwisata/\\\n",
    "data-jumlah-usaha-jasa-pariwisata-tahun-2018.csv'\n",
    "jumlah_usaha_jasa_pariwisata = pd.read_csv(loc_7)\n",
    "\n",
    "# jumlah usaha pariwisata bidang hiburan dan rekreasi\n",
    "loc_8 = 'C:/Users/Choir/Documents/GitHub/TDSN_SOBI/Datasource/Public Service/DKI Jakarta/Pariwisata/\\\n",
    "data-jumlah-usaha-pariwisata-bidang-hiburan-dan-rekreasi-menurut-jenis-usaha-dan-kecamatan.csv'\n",
    "jumlah_usaha_pariwisata_hiburan = pd.read_csv(loc_8)\n",
    "\n",
    "# kunjungan wisata mancanegara 1995-2000\n",
    "loc_9 = 'C:/Users/Choir/Documents/GitHub/TDSN_SOBI/Datasource/Public Service/DKI Jakarta/Pariwisata/\\\n",
    "data-kunjungan-wisata-mancanegara-ke-indonesia-menurut-pintu-masuk-tahun-1995-2000.csv'\n",
    "kunjungan_mancanegara_keindonesia = pd.read_csv(loc_9)\n",
    "\n",
    "# kunjungan wisata mancanegara ke dki januari tahun 2020\n",
    "loc_9 = 'C:/Users/Choir/Documents/GitHub/TDSN_SOBI/Datasource/Public Service/DKI Jakarta/Pariwisata/\\\n",
    "data-kunjungan-wisatawan-mancanegara-ke-provinsi-dki-jakarta-bulan-januari-tahun-2020-melalui-2-pintu-masuk.csv'\n",
    "kunjungan_mancanegara_kedki = pd.read_csv(loc_9)"
   ]
  }
 ],
 "metadata": {
  "kernelspec": {
   "display_name": "Python 3",
   "language": "python",
   "name": "python3"
  },
  "language_info": {
   "codemirror_mode": {
    "name": "ipython",
    "version": 3
   },
   "file_extension": ".py",
   "mimetype": "text/x-python",
   "name": "python",
   "nbconvert_exporter": "python",
   "pygments_lexer": "ipython3",
   "version": "3.8.8"
  }
 },
 "nbformat": 4,
 "nbformat_minor": 5
}
