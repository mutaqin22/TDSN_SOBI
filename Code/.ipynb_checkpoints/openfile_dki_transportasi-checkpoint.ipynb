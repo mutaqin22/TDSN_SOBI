{
 "cells": [
  {
   "cell_type": "code",
   "execution_count": 1,
   "id": "4f0e2745-8d7d-4ab2-8f89-04ab2fc820fb",
   "metadata": {},
   "outputs": [],
   "source": [
    "import pandas as pd\n",
    "import glob as gb\n",
    "import numpy as np\n",
    "import matplotlib.pyplot as plt\n",
    "import seaborn as sns"
   ]
  },
  {
   "cell_type": "markdown",
   "id": "ee12fbda-ad7a-488c-bef2-5c34cac8e0f2",
   "metadata": {},
   "source": [
    "## File periodik"
   ]
  },
  {
   "cell_type": "code",
   "execution_count": 2,
   "id": "f953d15c-8192-45d6-ac6d-ee95116a9525",
   "metadata": {},
   "outputs": [],
   "source": [
    "# regex semua file .csv angkutan pariwisata\n",
    "loc_1 = 'C:/Users/Choir/Documents/GitHub/TDSN_SOBI/Datasource/Public Service/DKI Jakarta/Transportasi/\\\n",
    "data-angkutan-pariwisata*.csv'\n",
    "filenames_1 = gb.glob(loc_1)\n",
    "\n",
    "# regex semua file .csv angkutan umum\n",
    "loc_2 = 'C:/Users/Choir/Documents/GitHub/TDSN_SOBI/Datasource/Public Service/DKI Jakarta/Transportasi/\\\n",
    "data-armada-angkutan-umum*.csv'\n",
    "filenames_2 = gb.glob(loc_2)\n"
   ]
  },
  {
   "cell_type": "code",
   "execution_count": 22,
   "id": "b683d179-5c82-4c68-9d62-12809adc0308",
   "metadata": {},
   "outputs": [],
   "source": [
    "# Pemanggilan file-file csv menggunakan list\n",
    "#\n",
    "# Wisatawan mancanegara\n",
    "list_1 = []\n",
    "for file_1 in filenames_1:\n",
    "    df_1 = pd.read_csv(file_1)\n",
    "    list_1.append(df_1)\n",
    "wisatawan_mancanegara = pd.concat(list_1)\n",
    "\n",
    "# Wisatawan nusantara\n",
    "list_2 = []\n",
    "for file_2 in filenames_2:\n",
    "    df_2 = pd.read_csv(file_2)\n",
    "    list_2.append(df_2)\n",
    "wisatawan_nusantara = pd.concat(list_2)"
   ]
  },
  {
   "cell_type": "markdown",
   "id": "9773299a-8f97-41e6-b3dd-ec7572d88aa3",
   "metadata": {},
   "source": [
    "## File non-periodik"
   ]
  },
  {
   "cell_type": "markdown",
   "id": "16eae820-d53a-45fe-a085-ed0be9c3804a",
   "metadata": {},
   "source": [
    "data = agustus-2019-data-kecepatan-rata-rata-di-41-koridor-jalan-utama-pada-jam-sibuk.csv\n",
    "data = april-2019-data-kecepatan-rata-rata-di-41-koridor-jalan-utama-pada-jam-sibuk.csv\n",
    "data = data-angkutan-barang-tahun-2016.csv\n",
    "data = data-halte-dki-jakarta-tahun-2014-xlsx.csv\n",
    "data = data-halte-transjakarta.csv\n",
    "data = data-jaringan-jalan-toll-provinsi-dki-jakarta.csv\n",
    "data = data-jumlah-angkuan-umum-2017.csv\n",
    "data = data-jumlah-angkutan-berdasarkan-jenis-kendaraan-tahun-2016-2017-di-wilayah-dki-jakarta.csv"
   ]
  }
 ],
 "metadata": {
  "kernelspec": {
   "display_name": "Python 3",
   "language": "python",
   "name": "python3"
  },
  "language_info": {
   "codemirror_mode": {
    "name": "ipython",
    "version": 3
   },
   "file_extension": ".py",
   "mimetype": "text/x-python",
   "name": "python",
   "nbconvert_exporter": "python",
   "pygments_lexer": "ipython3",
   "version": "3.8.8"
  }
 },
 "nbformat": 4,
 "nbformat_minor": 5
}
