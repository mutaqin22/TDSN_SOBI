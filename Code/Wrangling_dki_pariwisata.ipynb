{
 "cells": [
  {
   "cell_type": "code",
   "execution_count": 2,
   "id": "0b520fab-1725-4b64-b796-26aff744852d",
   "metadata": {},
   "outputs": [],
   "source": [
    "import pandas as pd\n",
    "import numpy as np\n",
    "import matplotlib.pyplot as plt\n",
    "import seaborn as sns\n",
    "import glob as gb"
   ]
  },
  {
   "cell_type": "code",
   "execution_count": 9,
   "id": "fa43dc0d-f344-4ee3-8881-0bfadfc60318",
   "metadata": {},
   "outputs": [
    {
     "data": {
      "text/plain": [
       "'C:\\\\Users\\\\choir\\\\Documents\\\\GitHub\\\\TDSN_SOBI\\\\Code'"
      ]
     },
     "execution_count": 9,
     "metadata": {},
     "output_type": "execute_result"
    }
   ],
   "source": [
    "pwd"
   ]
  },
  {
   "cell_type": "code",
   "execution_count": 12,
   "id": "689d9c88-ac1e-4182-8976-3b3933a41b3a",
   "metadata": {},
   "outputs": [],
   "source": [
    "data1 = pd.read_csv(\"C:/Users/Choir/Documents/GitHub/TDSN_SOBI/Datasource/Public Service/DKI Jakarta/Pariwisata/data-jumlah-kunjungan-wisatawan-mancanegara-ke-destinasi-wisata-di-provinsi-dki-jakarta-bulan-agustus-tahun-2020.csv\")"
   ]
  },
  {
   "cell_type": "code",
   "execution_count": 13,
   "id": "ad1b4f69-07cc-466f-a3d2-d1e05060341f",
   "metadata": {},
   "outputs": [
    {
     "data": {
      "text/html": [
       "<div>\n",
       "<style scoped>\n",
       "    .dataframe tbody tr th:only-of-type {\n",
       "        vertical-align: middle;\n",
       "    }\n",
       "\n",
       "    .dataframe tbody tr th {\n",
       "        vertical-align: top;\n",
       "    }\n",
       "\n",
       "    .dataframe thead th {\n",
       "        text-align: right;\n",
       "    }\n",
       "</style>\n",
       "<table border=\"1\" class=\"dataframe\">\n",
       "  <thead>\n",
       "    <tr style=\"text-align: right;\">\n",
       "      <th></th>\n",
       "      <th>tahun</th>\n",
       "      <th>bulan</th>\n",
       "      <th>jumlah</th>\n",
       "    </tr>\n",
       "  </thead>\n",
       "  <tbody>\n",
       "    <tr>\n",
       "      <th>count</th>\n",
       "      <td>20.0</td>\n",
       "      <td>20.0</td>\n",
       "      <td>20.000000</td>\n",
       "    </tr>\n",
       "    <tr>\n",
       "      <th>mean</th>\n",
       "      <td>2020.0</td>\n",
       "      <td>8.0</td>\n",
       "      <td>18.900000</td>\n",
       "    </tr>\n",
       "    <tr>\n",
       "      <th>std</th>\n",
       "      <td>0.0</td>\n",
       "      <td>0.0</td>\n",
       "      <td>52.851231</td>\n",
       "    </tr>\n",
       "    <tr>\n",
       "      <th>min</th>\n",
       "      <td>2020.0</td>\n",
       "      <td>8.0</td>\n",
       "      <td>0.000000</td>\n",
       "    </tr>\n",
       "    <tr>\n",
       "      <th>25%</th>\n",
       "      <td>2020.0</td>\n",
       "      <td>8.0</td>\n",
       "      <td>0.000000</td>\n",
       "    </tr>\n",
       "    <tr>\n",
       "      <th>50%</th>\n",
       "      <td>2020.0</td>\n",
       "      <td>8.0</td>\n",
       "      <td>0.000000</td>\n",
       "    </tr>\n",
       "    <tr>\n",
       "      <th>75%</th>\n",
       "      <td>2020.0</td>\n",
       "      <td>8.0</td>\n",
       "      <td>2.000000</td>\n",
       "    </tr>\n",
       "    <tr>\n",
       "      <th>max</th>\n",
       "      <td>2020.0</td>\n",
       "      <td>8.0</td>\n",
       "      <td>209.000000</td>\n",
       "    </tr>\n",
       "  </tbody>\n",
       "</table>\n",
       "</div>"
      ],
      "text/plain": [
       "        tahun  bulan      jumlah\n",
       "count    20.0   20.0   20.000000\n",
       "mean   2020.0    8.0   18.900000\n",
       "std       0.0    0.0   52.851231\n",
       "min    2020.0    8.0    0.000000\n",
       "25%    2020.0    8.0    0.000000\n",
       "50%    2020.0    8.0    0.000000\n",
       "75%    2020.0    8.0    2.000000\n",
       "max    2020.0    8.0  209.000000"
      ]
     },
     "execution_count": 13,
     "metadata": {},
     "output_type": "execute_result"
    }
   ],
   "source": [
    "data1.describe()"
   ]
  },
  {
   "cell_type": "code",
   "execution_count": 5,
   "id": "a3062f37-525c-45be-91a8-d6a07145788f",
   "metadata": {},
   "outputs": [
    {
     "data": {
      "text/html": [
       "<div>\n",
       "<style scoped>\n",
       "    .dataframe tbody tr th:only-of-type {\n",
       "        vertical-align: middle;\n",
       "    }\n",
       "\n",
       "    .dataframe tbody tr th {\n",
       "        vertical-align: top;\n",
       "    }\n",
       "\n",
       "    .dataframe thead th {\n",
       "        text-align: right;\n",
       "    }\n",
       "</style>\n",
       "<table border=\"1\" class=\"dataframe\">\n",
       "  <thead>\n",
       "    <tr style=\"text-align: right;\">\n",
       "      <th></th>\n",
       "      <th>tahun</th>\n",
       "      <th>bulan</th>\n",
       "      <th>destinasi_wisata</th>\n",
       "      <th>jumlah</th>\n",
       "    </tr>\n",
       "  </thead>\n",
       "  <tbody>\n",
       "    <tr>\n",
       "      <th>0</th>\n",
       "      <td>2020</td>\n",
       "      <td>8</td>\n",
       "      <td>Taman Impian Jaya Ancol</td>\n",
       "      <td>0</td>\n",
       "    </tr>\n",
       "    <tr>\n",
       "      <th>1</th>\n",
       "      <td>2020</td>\n",
       "      <td>8</td>\n",
       "      <td>Taman Mini Indonesia Indah</td>\n",
       "      <td>0</td>\n",
       "    </tr>\n",
       "    <tr>\n",
       "      <th>2</th>\n",
       "      <td>2020</td>\n",
       "      <td>8</td>\n",
       "      <td>Taman Margasatwa Ragunan</td>\n",
       "      <td>0</td>\n",
       "    </tr>\n",
       "  </tbody>\n",
       "</table>\n",
       "</div>"
      ],
      "text/plain": [
       "   tahun  bulan            destinasi_wisata  jumlah\n",
       "0   2020      8     Taman Impian Jaya Ancol       0\n",
       "1   2020      8  Taman Mini Indonesia Indah       0\n",
       "2   2020      8    Taman Margasatwa Ragunan       0"
      ]
     },
     "execution_count": 5,
     "metadata": {},
     "output_type": "execute_result"
    }
   ],
   "source": [
    "data1.head(3)"
   ]
  },
  {
   "cell_type": "code",
   "execution_count": 14,
   "id": "86b4efda-2f1e-4e57-ae97-c9be505f5913",
   "metadata": {},
   "outputs": [],
   "source": [
    "data_2 = pd.read_csv('C:/Users/Choir/Documents/GitHub/TDSN_SOBI/Datasource/Public Service/DKI Jakarta/Pariwisata/data-jumlah-statistik-wisata-di-provinsi-dki-jakarta-tahun-2017.csv')"
   ]
  },
  {
   "cell_type": "code",
   "execution_count": 15,
   "id": "44dc1f7f-5e45-4e1a-ba33-7669e0ccd121",
   "metadata": {},
   "outputs": [
    {
     "data": {
      "text/html": [
       "<div>\n",
       "<style scoped>\n",
       "    .dataframe tbody tr th:only-of-type {\n",
       "        vertical-align: middle;\n",
       "    }\n",
       "\n",
       "    .dataframe tbody tr th {\n",
       "        vertical-align: top;\n",
       "    }\n",
       "\n",
       "    .dataframe thead th {\n",
       "        text-align: right;\n",
       "    }\n",
       "</style>\n",
       "<table border=\"1\" class=\"dataframe\">\n",
       "  <thead>\n",
       "    <tr style=\"text-align: right;\">\n",
       "      <th></th>\n",
       "      <th>tahun</th>\n",
       "      <th>indikator</th>\n",
       "      <th>jumlah</th>\n",
       "    </tr>\n",
       "  </thead>\n",
       "  <tbody>\n",
       "    <tr>\n",
       "      <th>0</th>\n",
       "      <td>2017</td>\n",
       "      <td>Jumlah Wisatawan Mancanegara</td>\n",
       "      <td>2658055</td>\n",
       "    </tr>\n",
       "    <tr>\n",
       "      <th>1</th>\n",
       "      <td>2017</td>\n",
       "      <td>Jumlah Wisatawan Nusantara</td>\n",
       "      <td>35464110</td>\n",
       "    </tr>\n",
       "    <tr>\n",
       "      <th>2</th>\n",
       "      <td>2017</td>\n",
       "      <td>Tingkat Penghunian Kamar Hotel Berbintang (%)</td>\n",
       "      <td>26</td>\n",
       "    </tr>\n",
       "    <tr>\n",
       "      <th>3</th>\n",
       "      <td>2017</td>\n",
       "      <td>Tingkat Penghunian Kamar Hotel Non Bintang (%)</td>\n",
       "      <td>5</td>\n",
       "    </tr>\n",
       "    <tr>\n",
       "      <th>4</th>\n",
       "      <td>2017</td>\n",
       "      <td>Rata-rata lama menginap wisatawan mancanegara ...</td>\n",
       "      <td>61</td>\n",
       "    </tr>\n",
       "  </tbody>\n",
       "</table>\n",
       "</div>"
      ],
      "text/plain": [
       "   tahun                                          indikator    jumlah\n",
       "0   2017                      Jumlah Wisatawan Mancanegara    2658055\n",
       "1   2017                        Jumlah Wisatawan Nusantara   35464110\n",
       "2   2017      Tingkat Penghunian Kamar Hotel Berbintang (%)        26\n",
       "3   2017     Tingkat Penghunian Kamar Hotel Non Bintang (%)         5\n",
       "4   2017  Rata-rata lama menginap wisatawan mancanegara ...        61"
      ]
     },
     "execution_count": 15,
     "metadata": {},
     "output_type": "execute_result"
    }
   ],
   "source": [
    "data_2.head(5)"
   ]
  },
  {
   "cell_type": "code",
   "execution_count": 16,
   "id": "f6200b8b-225f-4cf3-b099-40e85d56d8d5",
   "metadata": {},
   "outputs": [
    {
     "data": {
      "text/html": [
       "<div>\n",
       "<style scoped>\n",
       "    .dataframe tbody tr th:only-of-type {\n",
       "        vertical-align: middle;\n",
       "    }\n",
       "\n",
       "    .dataframe tbody tr th {\n",
       "        vertical-align: top;\n",
       "    }\n",
       "\n",
       "    .dataframe thead th {\n",
       "        text-align: right;\n",
       "    }\n",
       "</style>\n",
       "<table border=\"1\" class=\"dataframe\">\n",
       "  <thead>\n",
       "    <tr style=\"text-align: right;\">\n",
       "      <th></th>\n",
       "      <th>tahun</th>\n",
       "      <th>jenis_event</th>\n",
       "      <th>jumlah</th>\n",
       "    </tr>\n",
       "  </thead>\n",
       "  <tbody>\n",
       "    <tr>\n",
       "      <th>0</th>\n",
       "      <td>2016</td>\n",
       "      <td>Musik</td>\n",
       "      <td>59</td>\n",
       "    </tr>\n",
       "    <tr>\n",
       "      <th>1</th>\n",
       "      <td>2016</td>\n",
       "      <td>Pameran</td>\n",
       "      <td>108</td>\n",
       "    </tr>\n",
       "    <tr>\n",
       "      <th>2</th>\n",
       "      <td>2016</td>\n",
       "      <td>Festival</td>\n",
       "      <td>55</td>\n",
       "    </tr>\n",
       "    <tr>\n",
       "      <th>3</th>\n",
       "      <td>2016</td>\n",
       "      <td>Budaya</td>\n",
       "      <td>37</td>\n",
       "    </tr>\n",
       "    <tr>\n",
       "      <th>4</th>\n",
       "      <td>2016</td>\n",
       "      <td>Edukasi</td>\n",
       "      <td>5</td>\n",
       "    </tr>\n",
       "  </tbody>\n",
       "</table>\n",
       "</div>"
      ],
      "text/plain": [
       "   tahun jenis_event  jumlah\n",
       "0   2016      Musik       59\n",
       "1   2016    Pameran      108\n",
       "2   2016    Festival      55\n",
       "3   2016      Budaya      37\n",
       "4   2016     Edukasi       5"
      ]
     },
     "execution_count": 16,
     "metadata": {},
     "output_type": "execute_result"
    }
   ],
   "source": [
    "data_3 = pd.read_csv('C:/Users/Choir/Documents/GitHub/TDSN_SOBI/Datasource/Public Service/DKI Jakarta/Pariwisata/data-kategori-event-di-dki-jakarta-tahun-2016.csv')\n",
    "data_3.head(5)"
   ]
  },
  {
   "cell_type": "code",
   "execution_count": 19,
   "id": "f718ff1e-a4b1-4a09-927e-a4466fd809a5",
   "metadata": {},
   "outputs": [
    {
     "data": {
      "text/html": [
       "<div>\n",
       "<style scoped>\n",
       "    .dataframe tbody tr th:only-of-type {\n",
       "        vertical-align: middle;\n",
       "    }\n",
       "\n",
       "    .dataframe tbody tr th {\n",
       "        vertical-align: top;\n",
       "    }\n",
       "\n",
       "    .dataframe thead th {\n",
       "        text-align: right;\n",
       "    }\n",
       "</style>\n",
       "<table border=\"1\" class=\"dataframe\">\n",
       "  <thead>\n",
       "    <tr style=\"text-align: right;\">\n",
       "      <th></th>\n",
       "      <th>tahun</th>\n",
       "      <th>bulan</th>\n",
       "      <th>jenis_hotel</th>\n",
       "      <th>jumlah</th>\n",
       "      <th>keterangan</th>\n",
       "    </tr>\n",
       "  </thead>\n",
       "  <tbody>\n",
       "    <tr>\n",
       "      <th>0</th>\n",
       "      <td>2016</td>\n",
       "      <td>1</td>\n",
       "      <td>Bintang 5</td>\n",
       "      <td>71.1</td>\n",
       "      <td>%</td>\n",
       "    </tr>\n",
       "    <tr>\n",
       "      <th>1</th>\n",
       "      <td>2016</td>\n",
       "      <td>2</td>\n",
       "      <td>Bintang 5</td>\n",
       "      <td>48.2</td>\n",
       "      <td>%</td>\n",
       "    </tr>\n",
       "    <tr>\n",
       "      <th>2</th>\n",
       "      <td>2016</td>\n",
       "      <td>3</td>\n",
       "      <td>Bintang 5</td>\n",
       "      <td>82.1</td>\n",
       "      <td>%</td>\n",
       "    </tr>\n",
       "    <tr>\n",
       "      <th>3</th>\n",
       "      <td>2016</td>\n",
       "      <td>4</td>\n",
       "      <td>Bintang 5</td>\n",
       "      <td>27.1</td>\n",
       "      <td>%</td>\n",
       "    </tr>\n",
       "    <tr>\n",
       "      <th>4</th>\n",
       "      <td>2016</td>\n",
       "      <td>5</td>\n",
       "      <td>Bintang 5</td>\n",
       "      <td>86.2</td>\n",
       "      <td>%</td>\n",
       "    </tr>\n",
       "  </tbody>\n",
       "</table>\n",
       "</div>"
      ],
      "text/plain": [
       "   tahun  bulan jenis_hotel  jumlah keterangan\n",
       "0   2016      1   Bintang 5    71.1          %\n",
       "1   2016      2   Bintang 5    48.2          %\n",
       "2   2016      3   Bintang 5    82.1          %\n",
       "3   2016      4   Bintang 5    27.1          %\n",
       "4   2016      5   Bintang 5    86.2          %"
      ]
     },
     "execution_count": 19,
     "metadata": {},
     "output_type": "execute_result"
    }
   ],
   "source": [
    "data_4 = pd.read_csv('C:/Users/Choir/Documents/GitHub/TDSN_SOBI/Datasource/Public Service/DKI Jakarta/Pariwisata/data-rata-rata-lama-menginap-wisatawan-nusantara-di-hotel-berbintang-provinsi-dki-jakarta-tahun-2016.csv')\n",
    "data_4.head(5)"
   ]
  },
  {
   "cell_type": "code",
   "execution_count": 20,
   "id": "5752513d-5def-45f5-81a0-ed9a41e85d61",
   "metadata": {},
   "outputs": [],
   "source": [
    "data_5 = pd.read_csv('C:/Users/Choir/Documents/GitHub/TDSN_SOBI/Datasource/Public Service/DKI Jakarta/Pariwisata/\\\n",
    "data-jumlah-hotel-berbintang-dan-non-bintang-jakarta-tahun-2020.csv')"
   ]
  },
  {
   "cell_type": "code",
   "execution_count": 23,
   "id": "8c910c1b-7b2a-4915-b12f-2690408228b1",
   "metadata": {},
   "outputs": [
    {
     "data": {
      "text/html": [
       "<div>\n",
       "<style scoped>\n",
       "    .dataframe tbody tr th:only-of-type {\n",
       "        vertical-align: middle;\n",
       "    }\n",
       "\n",
       "    .dataframe tbody tr th {\n",
       "        vertical-align: top;\n",
       "    }\n",
       "\n",
       "    .dataframe thead th {\n",
       "        text-align: right;\n",
       "    }\n",
       "</style>\n",
       "<table border=\"1\" class=\"dataframe\">\n",
       "  <thead>\n",
       "    <tr style=\"text-align: right;\">\n",
       "      <th></th>\n",
       "      <th>jumlah_kamar</th>\n",
       "    </tr>\n",
       "  </thead>\n",
       "  <tbody>\n",
       "    <tr>\n",
       "      <th>count</th>\n",
       "      <td>426.000000</td>\n",
       "    </tr>\n",
       "    <tr>\n",
       "      <th>mean</th>\n",
       "      <td>129.173709</td>\n",
       "    </tr>\n",
       "    <tr>\n",
       "      <th>std</th>\n",
       "      <td>117.097256</td>\n",
       "    </tr>\n",
       "    <tr>\n",
       "      <th>min</th>\n",
       "      <td>11.000000</td>\n",
       "    </tr>\n",
       "    <tr>\n",
       "      <th>25%</th>\n",
       "      <td>50.000000</td>\n",
       "    </tr>\n",
       "    <tr>\n",
       "      <th>50%</th>\n",
       "      <td>90.000000</td>\n",
       "    </tr>\n",
       "    <tr>\n",
       "      <th>75%</th>\n",
       "      <td>165.000000</td>\n",
       "    </tr>\n",
       "    <tr>\n",
       "      <th>max</th>\n",
       "      <td>889.000000</td>\n",
       "    </tr>\n",
       "  </tbody>\n",
       "</table>\n",
       "</div>"
      ],
      "text/plain": [
       "       jumlah_kamar\n",
       "count    426.000000\n",
       "mean     129.173709\n",
       "std      117.097256\n",
       "min       11.000000\n",
       "25%       50.000000\n",
       "50%       90.000000\n",
       "75%      165.000000\n",
       "max      889.000000"
      ]
     },
     "execution_count": 23,
     "metadata": {},
     "output_type": "execute_result"
    }
   ],
   "source": [
    "data_5.describe()"
   ]
  },
  {
   "cell_type": "code",
   "execution_count": 26,
   "id": "c63412e3-4b1b-4c14-8c0b-488b8c2dd37d",
   "metadata": {},
   "outputs": [],
   "source": [
    "data_6 = pd.read_csv('C:/Users/Choir/Documents/GitHub/TDSN_SOBI/Datasource/Public Service/DKI Jakarta/Pariwisata/\\\n",
    "data-jumlah-peserta-pelatihan-profesi-kepariwisataan-di-provinsi-dki-jakarta-tahun-2019.csv')"
   ]
  },
  {
   "cell_type": "code",
   "execution_count": 28,
   "id": "90160a2d-5a44-4557-a00d-98e0f5b2b72e",
   "metadata": {},
   "outputs": [
    {
     "data": {
      "text/html": [
       "<div>\n",
       "<style scoped>\n",
       "    .dataframe tbody tr th:only-of-type {\n",
       "        vertical-align: middle;\n",
       "    }\n",
       "\n",
       "    .dataframe tbody tr th {\n",
       "        vertical-align: top;\n",
       "    }\n",
       "\n",
       "    .dataframe thead th {\n",
       "        text-align: right;\n",
       "    }\n",
       "</style>\n",
       "<table border=\"1\" class=\"dataframe\">\n",
       "  <thead>\n",
       "    <tr style=\"text-align: right;\">\n",
       "      <th></th>\n",
       "      <th>tahun</th>\n",
       "      <th>nama_profesi</th>\n",
       "      <th>jumlah_peserta</th>\n",
       "      <th>keterangan</th>\n",
       "    </tr>\n",
       "  </thead>\n",
       "  <tbody>\n",
       "    <tr>\n",
       "      <th>0</th>\n",
       "      <td>2019</td>\n",
       "      <td>Profesi Life Guard</td>\n",
       "      <td>0</td>\n",
       "      <td>Pendaftar</td>\n",
       "    </tr>\n",
       "    <tr>\n",
       "      <th>1</th>\n",
       "      <td>2019</td>\n",
       "      <td>Profesi Life Guard</td>\n",
       "      <td>0</td>\n",
       "      <td>Peserta Lulus</td>\n",
       "    </tr>\n",
       "    <tr>\n",
       "      <th>2</th>\n",
       "      <td>2019</td>\n",
       "      <td>Profesi Life Guard</td>\n",
       "      <td>0</td>\n",
       "      <td>Peserta Tidak Lulus</td>\n",
       "    </tr>\n",
       "  </tbody>\n",
       "</table>\n",
       "</div>"
      ],
      "text/plain": [
       "   tahun        nama_profesi  jumlah_peserta           keterangan\n",
       "0   2019  Profesi Life Guard               0            Pendaftar\n",
       "1   2019  Profesi Life Guard               0        Peserta Lulus\n",
       "2   2019  Profesi Life Guard               0  Peserta Tidak Lulus"
      ]
     },
     "execution_count": 28,
     "metadata": {},
     "output_type": "execute_result"
    }
   ],
   "source": [
    "data_6.head(3)"
   ]
  },
  {
   "cell_type": "code",
   "execution_count": 29,
   "id": "7a2e7ae2-cfd3-45a2-be7f-37c7b196f352",
   "metadata": {},
   "outputs": [],
   "source": [
    "data_7 = pd.read_csv('C:/Users/Choir/Documents/GitHub/TDSN_SOBI/Datasource/Public Service/DKI Jakarta/Pariwisata/\\\n",
    "data-jumlah-usaha-jasa-pariwisata-tahun-2018.csv')"
   ]
  },
  {
   "cell_type": "code",
   "execution_count": 33,
   "id": "142442fc-b708-434b-9740-3bc13db277f9",
   "metadata": {},
   "outputs": [
    {
     "data": {
      "text/html": [
       "<div>\n",
       "<style scoped>\n",
       "    .dataframe tbody tr th:only-of-type {\n",
       "        vertical-align: middle;\n",
       "    }\n",
       "\n",
       "    .dataframe tbody tr th {\n",
       "        vertical-align: top;\n",
       "    }\n",
       "\n",
       "    .dataframe thead th {\n",
       "        text-align: right;\n",
       "    }\n",
       "</style>\n",
       "<table border=\"1\" class=\"dataframe\">\n",
       "  <thead>\n",
       "    <tr style=\"text-align: right;\">\n",
       "      <th></th>\n",
       "      <th>tahun</th>\n",
       "      <th>jumlah</th>\n",
       "      <th>Unnamed: 4</th>\n",
       "      <th>Unnamed: 5</th>\n",
       "    </tr>\n",
       "  </thead>\n",
       "  <tbody>\n",
       "    <tr>\n",
       "      <th>count</th>\n",
       "      <td>11.0</td>\n",
       "      <td>11.000000</td>\n",
       "      <td>0.0</td>\n",
       "      <td>0.0</td>\n",
       "    </tr>\n",
       "    <tr>\n",
       "      <th>mean</th>\n",
       "      <td>2018.0</td>\n",
       "      <td>386.909091</td>\n",
       "      <td>NaN</td>\n",
       "      <td>NaN</td>\n",
       "    </tr>\n",
       "    <tr>\n",
       "      <th>std</th>\n",
       "      <td>0.0</td>\n",
       "      <td>812.137606</td>\n",
       "      <td>NaN</td>\n",
       "      <td>NaN</td>\n",
       "    </tr>\n",
       "    <tr>\n",
       "      <th>min</th>\n",
       "      <td>2018.0</td>\n",
       "      <td>3.000000</td>\n",
       "      <td>NaN</td>\n",
       "      <td>NaN</td>\n",
       "    </tr>\n",
       "    <tr>\n",
       "      <th>25%</th>\n",
       "      <td>2018.0</td>\n",
       "      <td>24.000000</td>\n",
       "      <td>NaN</td>\n",
       "      <td>NaN</td>\n",
       "    </tr>\n",
       "    <tr>\n",
       "      <th>50%</th>\n",
       "      <td>2018.0</td>\n",
       "      <td>43.000000</td>\n",
       "      <td>NaN</td>\n",
       "      <td>NaN</td>\n",
       "    </tr>\n",
       "    <tr>\n",
       "      <th>75%</th>\n",
       "      <td>2018.0</td>\n",
       "      <td>267.000000</td>\n",
       "      <td>NaN</td>\n",
       "      <td>NaN</td>\n",
       "    </tr>\n",
       "    <tr>\n",
       "      <th>max</th>\n",
       "      <td>2018.0</td>\n",
       "      <td>2763.000000</td>\n",
       "      <td>NaN</td>\n",
       "      <td>NaN</td>\n",
       "    </tr>\n",
       "  </tbody>\n",
       "</table>\n",
       "</div>"
      ],
      "text/plain": [
       "        tahun       jumlah  Unnamed: 4  Unnamed: 5\n",
       "count    11.0    11.000000         0.0         0.0\n",
       "mean   2018.0   386.909091         NaN         NaN\n",
       "std       0.0   812.137606         NaN         NaN\n",
       "min    2018.0     3.000000         NaN         NaN\n",
       "25%    2018.0    24.000000         NaN         NaN\n",
       "50%    2018.0    43.000000         NaN         NaN\n",
       "75%    2018.0   267.000000         NaN         NaN\n",
       "max    2018.0  2763.000000         NaN         NaN"
      ]
     },
     "execution_count": 33,
     "metadata": {},
     "output_type": "execute_result"
    }
   ],
   "source": [
    "data_7.describe()"
   ]
  },
  {
   "cell_type": "code",
   "execution_count": 34,
   "id": "4fbd9d4d-3412-43f4-9a16-77b8280f1f8f",
   "metadata": {},
   "outputs": [],
   "source": [
    "data_8 = pd.read_csv('C:/Users/Choir/Documents/GitHub/TDSN_SOBI/Datasource/Public Service/DKI Jakarta/Pariwisata/\\\n",
    "data-jumlah-usaha-pariwisata-bidang-hiburan-dan-rekreasi-menurut-jenis-usaha-dan-kecamatan.csv')"
   ]
  },
  {
   "cell_type": "code",
   "execution_count": 35,
   "id": "129cf335-c12b-4c3d-891e-3a92862a932a",
   "metadata": {},
   "outputs": [
    {
     "data": {
      "text/html": [
       "<div>\n",
       "<style scoped>\n",
       "    .dataframe tbody tr th:only-of-type {\n",
       "        vertical-align: middle;\n",
       "    }\n",
       "\n",
       "    .dataframe tbody tr th {\n",
       "        vertical-align: top;\n",
       "    }\n",
       "\n",
       "    .dataframe thead th {\n",
       "        text-align: right;\n",
       "    }\n",
       "</style>\n",
       "<table border=\"1\" class=\"dataframe\">\n",
       "  <thead>\n",
       "    <tr style=\"text-align: right;\">\n",
       "      <th></th>\n",
       "      <th>jenis_usaha</th>\n",
       "      <th>kecamatan</th>\n",
       "      <th>wilayah</th>\n",
       "    </tr>\n",
       "  </thead>\n",
       "  <tbody>\n",
       "    <tr>\n",
       "      <th>0</th>\n",
       "      <td>Bola Sodok</td>\n",
       "      <td>Kebon Jeruk</td>\n",
       "      <td>Jakarta Barat</td>\n",
       "    </tr>\n",
       "    <tr>\n",
       "      <th>1</th>\n",
       "      <td>Bola Sodok</td>\n",
       "      <td>Tambora</td>\n",
       "      <td>Jakarta Barat</td>\n",
       "    </tr>\n",
       "  </tbody>\n",
       "</table>\n",
       "</div>"
      ],
      "text/plain": [
       "  jenis_usaha    kecamatan        wilayah\n",
       "0  Bola Sodok  Kebon Jeruk  Jakarta Barat\n",
       "1  Bola Sodok      Tambora  Jakarta Barat"
      ]
     },
     "execution_count": 35,
     "metadata": {},
     "output_type": "execute_result"
    }
   ],
   "source": [
    "data_8.head(2)"
   ]
  },
  {
   "cell_type": "code",
   "execution_count": 48,
   "id": "3965170a-c87c-4966-ba95-a9095750b1c6",
   "metadata": {},
   "outputs": [],
   "source": [
    "data_9 = pd.read_csv('C:/Users/Choir/Documents/GitHub/TDSN_SOBI/Datasource/Public Service/DKI Jakarta/Pariwisata/\\\n",
    "data-kunjungan-wisata-mancanegara-ke-indonesia-menurut-pintu-masuk-tahun-1995-2000.csv')"
   ]
  },
  {
   "cell_type": "code",
   "execution_count": 49,
   "id": "63ec540b-d87a-40b1-840d-892d5327da53",
   "metadata": {},
   "outputs": [
    {
     "data": {
      "text/html": [
       "<div>\n",
       "<style scoped>\n",
       "    .dataframe tbody tr th:only-of-type {\n",
       "        vertical-align: middle;\n",
       "    }\n",
       "\n",
       "    .dataframe tbody tr th {\n",
       "        vertical-align: top;\n",
       "    }\n",
       "\n",
       "    .dataframe thead th {\n",
       "        text-align: right;\n",
       "    }\n",
       "</style>\n",
       "<table border=\"1\" class=\"dataframe\">\n",
       "  <thead>\n",
       "    <tr style=\"text-align: right;\">\n",
       "      <th></th>\n",
       "      <th>tahun</th>\n",
       "      <th>pintu_masuk</th>\n",
       "      <th>jumlah</th>\n",
       "    </tr>\n",
       "  </thead>\n",
       "  <tbody>\n",
       "    <tr>\n",
       "      <th>0</th>\n",
       "      <td>1995</td>\n",
       "      <td>Bandar Udara Soekarno-Hatta</td>\n",
       "      <td>1259264</td>\n",
       "    </tr>\n",
       "    <tr>\n",
       "      <th>1</th>\n",
       "      <td>1996</td>\n",
       "      <td>Bandar Udara Soekarno-Hatta</td>\n",
       "      <td>1565706</td>\n",
       "    </tr>\n",
       "    <tr>\n",
       "      <th>2</th>\n",
       "      <td>1997</td>\n",
       "      <td>Bandar Udara Soekarno-Hatta</td>\n",
       "      <td>1486646</td>\n",
       "    </tr>\n",
       "  </tbody>\n",
       "</table>\n",
       "</div>"
      ],
      "text/plain": [
       "   tahun                   pintu_masuk   jumlah\n",
       "0   1995  Bandar Udara Soekarno-Hatta   1259264\n",
       "1   1996  Bandar Udara Soekarno-Hatta   1565706\n",
       "2   1997  Bandar Udara Soekarno-Hatta   1486646"
      ]
     },
     "execution_count": 49,
     "metadata": {},
     "output_type": "execute_result"
    }
   ],
   "source": [
    "data_9.head(3)"
   ]
  },
  {
   "cell_type": "code",
   "execution_count": 52,
   "id": "a0467638-41fb-43e9-b808-e9e9bc209c7e",
   "metadata": {},
   "outputs": [
    {
     "name": "stdout",
     "output_type": "stream",
     "text": [
      "['Bandar Udara Soekarno-Hatta ' 'Bandar Udara Ngurah Rai '\n",
      " 'Bandar Udara Polonia ' 'Batam ' 'Lainnya ']\n"
     ]
    }
   ],
   "source": [
    "print(data_9['pintu_masuk'].unique())"
   ]
  },
  {
   "cell_type": "code",
   "execution_count": 45,
   "id": "96ca7c33-61f5-4dc7-b4de-e5776dbafffe",
   "metadata": {},
   "outputs": [],
   "source": [
    "data_10 = pd.read_csv('C:/Users/Choir/Documents/GitHub/TDSN_SOBI/Datasource/Public Service/DKI Jakarta/Pariwisata/\\\n",
    "data-kunjungan-wisatawan-mancanegara-ke-provinsi-dki-jakarta-bulan-januari-tahun-2020-melalui-2-pintu-masuk.csv'\n",
    ")"
   ]
  },
  {
   "cell_type": "code",
   "execution_count": 46,
   "id": "8ba03723-52a1-4cdb-b1b4-adc44737a822",
   "metadata": {},
   "outputs": [
    {
     "data": {
      "text/html": [
       "<div>\n",
       "<style scoped>\n",
       "    .dataframe tbody tr th:only-of-type {\n",
       "        vertical-align: middle;\n",
       "    }\n",
       "\n",
       "    .dataframe tbody tr th {\n",
       "        vertical-align: top;\n",
       "    }\n",
       "\n",
       "    .dataframe thead th {\n",
       "        text-align: right;\n",
       "    }\n",
       "</style>\n",
       "<table border=\"1\" class=\"dataframe\">\n",
       "  <thead>\n",
       "    <tr style=\"text-align: right;\">\n",
       "      <th></th>\n",
       "      <th>tahun</th>\n",
       "      <th>bulan</th>\n",
       "      <th>kedatangan_wisata_mancanegara</th>\n",
       "      <th>jumlah</th>\n",
       "    </tr>\n",
       "  </thead>\n",
       "  <tbody>\n",
       "    <tr>\n",
       "      <th>0</th>\n",
       "      <td>2020</td>\n",
       "      <td>1</td>\n",
       "      <td>Bandara Soekarno-Hatta</td>\n",
       "      <td>173453</td>\n",
       "    </tr>\n",
       "    <tr>\n",
       "      <th>1</th>\n",
       "      <td>2020</td>\n",
       "      <td>1</td>\n",
       "      <td>Bandara Halim PK</td>\n",
       "      <td>161</td>\n",
       "    </tr>\n",
       "  </tbody>\n",
       "</table>\n",
       "</div>"
      ],
      "text/plain": [
       "   tahun  bulan kedatangan_wisata_mancanegara  jumlah\n",
       "0   2020      1        Bandara Soekarno-Hatta  173453\n",
       "1   2020      1              Bandara Halim PK     161"
      ]
     },
     "execution_count": 46,
     "metadata": {},
     "output_type": "execute_result"
    }
   ],
   "source": [
    "data_10.head(4)"
   ]
  },
  {
   "cell_type": "code",
   "execution_count": 56,
   "id": "9f7f77f5-3cc7-447f-9bc1-1c49a1d5099c",
   "metadata": {},
   "outputs": [
    {
     "name": "stdout",
     "output_type": "stream",
     "text": [
      "['Bandara Soekarno-Hatta' 'Bandara Halim PK']\n",
      "[1]\n",
      "[2020]\n"
     ]
    }
   ],
   "source": [
    "print(data_10['kedatangan_wisata_mancanegara'].unique())\n",
    "print(data_10['bulan'].unique())\n",
    "print(data_10['tahun'].unique())"
   ]
  },
  {
   "cell_type": "code",
   "execution_count": null,
   "id": "0ff79eb2-23f7-456a-8004-7eb9fca2fb1a",
   "metadata": {},
   "outputs": [],
   "source": []
  }
 ],
 "metadata": {
  "kernelspec": {
   "display_name": "Python 3",
   "language": "python",
   "name": "python3"
  },
  "language_info": {
   "codemirror_mode": {
    "name": "ipython",
    "version": 3
   },
   "file_extension": ".py",
   "mimetype": "text/x-python",
   "name": "python",
   "nbconvert_exporter": "python",
   "pygments_lexer": "ipython3",
   "version": "3.8.8"
  }
 },
 "nbformat": 4,
 "nbformat_minor": 5
}
